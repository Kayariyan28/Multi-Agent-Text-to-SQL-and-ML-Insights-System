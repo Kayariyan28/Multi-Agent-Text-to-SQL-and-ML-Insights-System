{
 "cells": [
  {
   "cell_type": "markdown",
   "source": [
    "# Demo Notebook for Multi-Agent Insights System"
   ],
   "metadata": {}
  },
  {
   "cell_type": "code",
   "source": [
    "import os\n",
    "os.environ['GOOGLE_API_KEY'] = 'your-key'  # Set your keys here or via .env\n",
    "# ... other keys ...\n",
    "\n",
    "from src.graph import build_graph\n",
    "from main import run_analysis\n",
    "\n",
    "graph = build_graph()\n",
    "\n",
    "business_question = \"Predict sales for the next quarter using linear regression on historical data.\"\n",
    "run_analysis(business_question, graph)"
   ],
   "metadata": {},
   "outputs": [],
   "execution_count": null
  }
 ],
 "metadata": {
  "kernelspec": {
   "display_name": "Python 3",
   "language": "python",
   "name": "python3"
  },
  "language_info": {
   "name": "python"
  }
 },
 "nbformat": 4,
 "nbformat_minor": 5
}
